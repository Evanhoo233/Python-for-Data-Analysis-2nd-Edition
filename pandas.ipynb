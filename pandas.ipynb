{
 "cells": [
  {
   "cell_type": "markdown",
   "metadata": {},
   "source": [
    "#### Pandas"
   ]
  },
  {
   "cell_type": "code",
   "execution_count": 47,
   "metadata": {
    "ExecuteTime": {
     "end_time": "2020-12-14T05:03:03.190393Z",
     "start_time": "2020-12-14T05:03:03.186377Z"
    }
   },
   "outputs": [],
   "source": [
    "# Series\n",
    "\n",
    "import pandas as pd\n",
    "\n",
    "obj = pd.Series([4,7,-5,3])"
   ]
  },
  {
   "cell_type": "code",
   "execution_count": 48,
   "metadata": {
    "ExecuteTime": {
     "end_time": "2020-12-14T05:03:03.202335Z",
     "start_time": "2020-12-14T05:03:03.192362Z"
    }
   },
   "outputs": [
    {
     "data": {
      "text/plain": [
       "0    4\n",
       "1    7\n",
       "2   -5\n",
       "3    3\n",
       "dtype: int64"
      ]
     },
     "execution_count": 48,
     "metadata": {},
     "output_type": "execute_result"
    }
   ],
   "source": [
    "obj"
   ]
  },
  {
   "cell_type": "code",
   "execution_count": 49,
   "metadata": {
    "ExecuteTime": {
     "end_time": "2020-12-14T05:03:03.208319Z",
     "start_time": "2020-12-14T05:03:03.204330Z"
    }
   },
   "outputs": [
    {
     "data": {
      "text/plain": [
       "array([ 4,  7, -5,  3], dtype=int64)"
      ]
     },
     "execution_count": 49,
     "metadata": {},
     "output_type": "execute_result"
    }
   ],
   "source": [
    "obj.values"
   ]
  },
  {
   "cell_type": "code",
   "execution_count": 50,
   "metadata": {
    "ExecuteTime": {
     "end_time": "2020-12-14T05:03:03.214342Z",
     "start_time": "2020-12-14T05:03:03.209315Z"
    }
   },
   "outputs": [
    {
     "data": {
      "text/plain": [
       "RangeIndex(start=0, stop=4, step=1)"
      ]
     },
     "execution_count": 50,
     "metadata": {},
     "output_type": "execute_result"
    }
   ],
   "source": [
    "obj.index"
   ]
  },
  {
   "cell_type": "code",
   "execution_count": 51,
   "metadata": {
    "ExecuteTime": {
     "end_time": "2020-12-14T05:03:03.219289Z",
     "start_time": "2020-12-14T05:03:03.215308Z"
    }
   },
   "outputs": [],
   "source": [
    "ser2 = pd.Series(np.arange(3.), index=['a', 'b', 'c'])"
   ]
  },
  {
   "cell_type": "code",
   "execution_count": 52,
   "metadata": {
    "ExecuteTime": {
     "end_time": "2020-12-14T05:03:03.225289Z",
     "start_time": "2020-12-14T05:03:03.220286Z"
    }
   },
   "outputs": [
    {
     "data": {
      "text/plain": [
       "a    0.0\n",
       "b    1.0\n",
       "c    2.0\n",
       "dtype: float64"
      ]
     },
     "execution_count": 52,
     "metadata": {},
     "output_type": "execute_result"
    }
   ],
   "source": [
    "ser2"
   ]
  },
  {
   "cell_type": "code",
   "execution_count": 53,
   "metadata": {
    "ExecuteTime": {
     "end_time": "2020-12-14T05:03:03.232256Z",
     "start_time": "2020-12-14T05:03:03.226270Z"
    }
   },
   "outputs": [
    {
     "data": {
      "text/plain": [
       "a    0.0\n",
       "b    1.0\n",
       "dtype: float64"
      ]
     },
     "execution_count": 53,
     "metadata": {},
     "output_type": "execute_result"
    }
   ],
   "source": [
    "ser2.loc[:'b']"
   ]
  },
  {
   "cell_type": "code",
   "execution_count": null,
   "metadata": {},
   "outputs": [],
   "source": []
  },
  {
   "cell_type": "markdown",
   "metadata": {},
   "source": [
    "##### Dataframe"
   ]
  },
  {
   "cell_type": "code",
   "execution_count": 54,
   "metadata": {
    "ExecuteTime": {
     "end_time": "2020-12-14T05:03:03.239236Z",
     "start_time": "2020-12-14T05:03:03.233252Z"
    }
   },
   "outputs": [],
   "source": [
    "data = {'state': ['Ohio', 'Ohio', 'Ohio', 'Nevada', 'Nevada', 'Nevada'],\n",
    "'year': [2000, 2001, 2002, 2001, 2002, 2003],\n",
    "'pop': [1.5, 1.7, 3.6, 2.4, 2.9, 3.2]}\n",
    "frame = pd.DataFrame(data)"
   ]
  },
  {
   "cell_type": "code",
   "execution_count": 55,
   "metadata": {
    "ExecuteTime": {
     "end_time": "2020-12-14T05:03:03.249263Z",
     "start_time": "2020-12-14T05:03:03.241231Z"
    }
   },
   "outputs": [
    {
     "data": {
      "text/html": [
       "<div>\n",
       "<style scoped>\n",
       "    .dataframe tbody tr th:only-of-type {\n",
       "        vertical-align: middle;\n",
       "    }\n",
       "\n",
       "    .dataframe tbody tr th {\n",
       "        vertical-align: top;\n",
       "    }\n",
       "\n",
       "    .dataframe thead th {\n",
       "        text-align: right;\n",
       "    }\n",
       "</style>\n",
       "<table border=\"1\" class=\"dataframe\">\n",
       "  <thead>\n",
       "    <tr style=\"text-align: right;\">\n",
       "      <th></th>\n",
       "      <th>state</th>\n",
       "      <th>year</th>\n",
       "      <th>pop</th>\n",
       "    </tr>\n",
       "  </thead>\n",
       "  <tbody>\n",
       "    <tr>\n",
       "      <th>0</th>\n",
       "      <td>Ohio</td>\n",
       "      <td>2000</td>\n",
       "      <td>1.5</td>\n",
       "    </tr>\n",
       "    <tr>\n",
       "      <th>1</th>\n",
       "      <td>Ohio</td>\n",
       "      <td>2001</td>\n",
       "      <td>1.7</td>\n",
       "    </tr>\n",
       "    <tr>\n",
       "      <th>2</th>\n",
       "      <td>Ohio</td>\n",
       "      <td>2002</td>\n",
       "      <td>3.6</td>\n",
       "    </tr>\n",
       "    <tr>\n",
       "      <th>3</th>\n",
       "      <td>Nevada</td>\n",
       "      <td>2001</td>\n",
       "      <td>2.4</td>\n",
       "    </tr>\n",
       "    <tr>\n",
       "      <th>4</th>\n",
       "      <td>Nevada</td>\n",
       "      <td>2002</td>\n",
       "      <td>2.9</td>\n",
       "    </tr>\n",
       "    <tr>\n",
       "      <th>5</th>\n",
       "      <td>Nevada</td>\n",
       "      <td>2003</td>\n",
       "      <td>3.2</td>\n",
       "    </tr>\n",
       "  </tbody>\n",
       "</table>\n",
       "</div>"
      ],
      "text/plain": [
       "    state  year  pop\n",
       "0    Ohio  2000  1.5\n",
       "1    Ohio  2001  1.7\n",
       "2    Ohio  2002  3.6\n",
       "3  Nevada  2001  2.4\n",
       "4  Nevada  2002  2.9\n",
       "5  Nevada  2003  3.2"
      ]
     },
     "execution_count": 55,
     "metadata": {},
     "output_type": "execute_result"
    }
   ],
   "source": [
    "frame"
   ]
  },
  {
   "cell_type": "code",
   "execution_count": 56,
   "metadata": {
    "ExecuteTime": {
     "end_time": "2020-12-14T05:03:03.261177Z",
     "start_time": "2020-12-14T05:03:03.251205Z"
    }
   },
   "outputs": [
    {
     "data": {
      "text/html": [
       "<div>\n",
       "<style scoped>\n",
       "    .dataframe tbody tr th:only-of-type {\n",
       "        vertical-align: middle;\n",
       "    }\n",
       "\n",
       "    .dataframe tbody tr th {\n",
       "        vertical-align: top;\n",
       "    }\n",
       "\n",
       "    .dataframe thead th {\n",
       "        text-align: right;\n",
       "    }\n",
       "</style>\n",
       "<table border=\"1\" class=\"dataframe\">\n",
       "  <thead>\n",
       "    <tr style=\"text-align: right;\">\n",
       "      <th></th>\n",
       "      <th>state</th>\n",
       "      <th>year</th>\n",
       "      <th>pop</th>\n",
       "    </tr>\n",
       "  </thead>\n",
       "  <tbody>\n",
       "    <tr>\n",
       "      <th>0</th>\n",
       "      <td>Ohio</td>\n",
       "      <td>2000</td>\n",
       "      <td>1.5</td>\n",
       "    </tr>\n",
       "    <tr>\n",
       "      <th>1</th>\n",
       "      <td>Ohio</td>\n",
       "      <td>2001</td>\n",
       "      <td>1.7</td>\n",
       "    </tr>\n",
       "    <tr>\n",
       "      <th>2</th>\n",
       "      <td>Ohio</td>\n",
       "      <td>2002</td>\n",
       "      <td>3.6</td>\n",
       "    </tr>\n",
       "    <tr>\n",
       "      <th>3</th>\n",
       "      <td>Nevada</td>\n",
       "      <td>2001</td>\n",
       "      <td>2.4</td>\n",
       "    </tr>\n",
       "    <tr>\n",
       "      <th>4</th>\n",
       "      <td>Nevada</td>\n",
       "      <td>2002</td>\n",
       "      <td>2.9</td>\n",
       "    </tr>\n",
       "  </tbody>\n",
       "</table>\n",
       "</div>"
      ],
      "text/plain": [
       "    state  year  pop\n",
       "0    Ohio  2000  1.5\n",
       "1    Ohio  2001  1.7\n",
       "2    Ohio  2002  3.6\n",
       "3  Nevada  2001  2.4\n",
       "4  Nevada  2002  2.9"
      ]
     },
     "execution_count": 56,
     "metadata": {},
     "output_type": "execute_result"
    }
   ],
   "source": [
    "frame.head()"
   ]
  },
  {
   "cell_type": "code",
   "execution_count": 57,
   "metadata": {
    "ExecuteTime": {
     "end_time": "2020-12-14T05:03:03.274143Z",
     "start_time": "2020-12-14T05:03:03.263173Z"
    }
   },
   "outputs": [
    {
     "data": {
      "text/html": [
       "<div>\n",
       "<style scoped>\n",
       "    .dataframe tbody tr th:only-of-type {\n",
       "        vertical-align: middle;\n",
       "    }\n",
       "\n",
       "    .dataframe tbody tr th {\n",
       "        vertical-align: top;\n",
       "    }\n",
       "\n",
       "    .dataframe thead th {\n",
       "        text-align: right;\n",
       "    }\n",
       "</style>\n",
       "<table border=\"1\" class=\"dataframe\">\n",
       "  <thead>\n",
       "    <tr style=\"text-align: right;\">\n",
       "      <th></th>\n",
       "      <th>year</th>\n",
       "      <th>state</th>\n",
       "      <th>pop</th>\n",
       "    </tr>\n",
       "  </thead>\n",
       "  <tbody>\n",
       "    <tr>\n",
       "      <th>0</th>\n",
       "      <td>2000</td>\n",
       "      <td>Ohio</td>\n",
       "      <td>1.5</td>\n",
       "    </tr>\n",
       "    <tr>\n",
       "      <th>1</th>\n",
       "      <td>2001</td>\n",
       "      <td>Ohio</td>\n",
       "      <td>1.7</td>\n",
       "    </tr>\n",
       "    <tr>\n",
       "      <th>2</th>\n",
       "      <td>2002</td>\n",
       "      <td>Ohio</td>\n",
       "      <td>3.6</td>\n",
       "    </tr>\n",
       "    <tr>\n",
       "      <th>3</th>\n",
       "      <td>2001</td>\n",
       "      <td>Nevada</td>\n",
       "      <td>2.4</td>\n",
       "    </tr>\n",
       "    <tr>\n",
       "      <th>4</th>\n",
       "      <td>2002</td>\n",
       "      <td>Nevada</td>\n",
       "      <td>2.9</td>\n",
       "    </tr>\n",
       "    <tr>\n",
       "      <th>5</th>\n",
       "      <td>2003</td>\n",
       "      <td>Nevada</td>\n",
       "      <td>3.2</td>\n",
       "    </tr>\n",
       "  </tbody>\n",
       "</table>\n",
       "</div>"
      ],
      "text/plain": [
       "   year   state  pop\n",
       "0  2000    Ohio  1.5\n",
       "1  2001    Ohio  1.7\n",
       "2  2002    Ohio  3.6\n",
       "3  2001  Nevada  2.4\n",
       "4  2002  Nevada  2.9\n",
       "5  2003  Nevada  3.2"
      ]
     },
     "execution_count": 57,
     "metadata": {},
     "output_type": "execute_result"
    }
   ],
   "source": [
    "pd.DataFrame(data, columns=['year','state','pop'])"
   ]
  },
  {
   "cell_type": "code",
   "execution_count": 58,
   "metadata": {
    "ExecuteTime": {
     "end_time": "2020-12-14T05:03:03.282121Z",
     "start_time": "2020-12-14T05:03:03.275139Z"
    }
   },
   "outputs": [],
   "source": [
    "frame2 = pd.DataFrame(data, columns=['year', 'state', 'pop', 'debt'],\n",
    "                      index=['one', 'two', 'three', 'four','five', 'six'])"
   ]
  },
  {
   "cell_type": "code",
   "execution_count": 59,
   "metadata": {
    "ExecuteTime": {
     "end_time": "2020-12-14T05:03:03.291098Z",
     "start_time": "2020-12-14T05:03:03.283119Z"
    }
   },
   "outputs": [
    {
     "data": {
      "text/html": [
       "<div>\n",
       "<style scoped>\n",
       "    .dataframe tbody tr th:only-of-type {\n",
       "        vertical-align: middle;\n",
       "    }\n",
       "\n",
       "    .dataframe tbody tr th {\n",
       "        vertical-align: top;\n",
       "    }\n",
       "\n",
       "    .dataframe thead th {\n",
       "        text-align: right;\n",
       "    }\n",
       "</style>\n",
       "<table border=\"1\" class=\"dataframe\">\n",
       "  <thead>\n",
       "    <tr style=\"text-align: right;\">\n",
       "      <th></th>\n",
       "      <th>year</th>\n",
       "      <th>state</th>\n",
       "      <th>pop</th>\n",
       "      <th>debt</th>\n",
       "    </tr>\n",
       "  </thead>\n",
       "  <tbody>\n",
       "    <tr>\n",
       "      <th>one</th>\n",
       "      <td>2000</td>\n",
       "      <td>Ohio</td>\n",
       "      <td>1.5</td>\n",
       "      <td>NaN</td>\n",
       "    </tr>\n",
       "    <tr>\n",
       "      <th>two</th>\n",
       "      <td>2001</td>\n",
       "      <td>Ohio</td>\n",
       "      <td>1.7</td>\n",
       "      <td>NaN</td>\n",
       "    </tr>\n",
       "    <tr>\n",
       "      <th>three</th>\n",
       "      <td>2002</td>\n",
       "      <td>Ohio</td>\n",
       "      <td>3.6</td>\n",
       "      <td>NaN</td>\n",
       "    </tr>\n",
       "    <tr>\n",
       "      <th>four</th>\n",
       "      <td>2001</td>\n",
       "      <td>Nevada</td>\n",
       "      <td>2.4</td>\n",
       "      <td>NaN</td>\n",
       "    </tr>\n",
       "    <tr>\n",
       "      <th>five</th>\n",
       "      <td>2002</td>\n",
       "      <td>Nevada</td>\n",
       "      <td>2.9</td>\n",
       "      <td>NaN</td>\n",
       "    </tr>\n",
       "    <tr>\n",
       "      <th>six</th>\n",
       "      <td>2003</td>\n",
       "      <td>Nevada</td>\n",
       "      <td>3.2</td>\n",
       "      <td>NaN</td>\n",
       "    </tr>\n",
       "  </tbody>\n",
       "</table>\n",
       "</div>"
      ],
      "text/plain": [
       "       year   state  pop debt\n",
       "one    2000    Ohio  1.5  NaN\n",
       "two    2001    Ohio  1.7  NaN\n",
       "three  2002    Ohio  3.6  NaN\n",
       "four   2001  Nevada  2.4  NaN\n",
       "five   2002  Nevada  2.9  NaN\n",
       "six    2003  Nevada  3.2  NaN"
      ]
     },
     "execution_count": 59,
     "metadata": {},
     "output_type": "execute_result"
    }
   ],
   "source": [
    "frame2"
   ]
  },
  {
   "cell_type": "code",
   "execution_count": 60,
   "metadata": {
    "ExecuteTime": {
     "end_time": "2020-12-14T05:03:03.297090Z",
     "start_time": "2020-12-14T05:03:03.292096Z"
    }
   },
   "outputs": [
    {
     "data": {
      "text/plain": [
       "Index(['year', 'state', 'pop', 'debt'], dtype='object')"
      ]
     },
     "execution_count": 60,
     "metadata": {},
     "output_type": "execute_result"
    }
   ],
   "source": [
    "frame2.columns"
   ]
  },
  {
   "cell_type": "code",
   "execution_count": 61,
   "metadata": {
    "ExecuteTime": {
     "end_time": "2020-12-14T05:03:03.306094Z",
     "start_time": "2020-12-14T05:03:03.298100Z"
    }
   },
   "outputs": [
    {
     "data": {
      "text/plain": [
       "one        Ohio\n",
       "two        Ohio\n",
       "three      Ohio\n",
       "four     Nevada\n",
       "five     Nevada\n",
       "six      Nevada\n",
       "Name: state, dtype: object"
      ]
     },
     "execution_count": 61,
     "metadata": {},
     "output_type": "execute_result"
    }
   ],
   "source": [
    "frame2['state']"
   ]
  },
  {
   "cell_type": "code",
   "execution_count": 62,
   "metadata": {
    "ExecuteTime": {
     "end_time": "2020-12-14T05:03:03.312072Z",
     "start_time": "2020-12-14T05:03:03.307069Z"
    }
   },
   "outputs": [
    {
     "data": {
      "text/plain": [
       "year     2002\n",
       "state    Ohio\n",
       "pop       3.6\n",
       "debt      NaN\n",
       "Name: three, dtype: object"
      ]
     },
     "execution_count": 62,
     "metadata": {},
     "output_type": "execute_result"
    }
   ],
   "source": [
    "frame2.loc['three']"
   ]
  },
  {
   "cell_type": "code",
   "execution_count": 63,
   "metadata": {
    "ExecuteTime": {
     "end_time": "2020-12-14T05:03:03.318064Z",
     "start_time": "2020-12-14T05:03:03.314044Z"
    }
   },
   "outputs": [],
   "source": [
    "frame2['debt'] = np.arange(6.)"
   ]
  },
  {
   "cell_type": "code",
   "execution_count": 64,
   "metadata": {
    "ExecuteTime": {
     "end_time": "2020-12-14T05:03:03.333983Z",
     "start_time": "2020-12-14T05:03:03.319023Z"
    }
   },
   "outputs": [
    {
     "data": {
      "text/html": [
       "<div>\n",
       "<style scoped>\n",
       "    .dataframe tbody tr th:only-of-type {\n",
       "        vertical-align: middle;\n",
       "    }\n",
       "\n",
       "    .dataframe tbody tr th {\n",
       "        vertical-align: top;\n",
       "    }\n",
       "\n",
       "    .dataframe thead th {\n",
       "        text-align: right;\n",
       "    }\n",
       "</style>\n",
       "<table border=\"1\" class=\"dataframe\">\n",
       "  <thead>\n",
       "    <tr style=\"text-align: right;\">\n",
       "      <th></th>\n",
       "      <th>year</th>\n",
       "      <th>state</th>\n",
       "      <th>pop</th>\n",
       "      <th>debt</th>\n",
       "    </tr>\n",
       "  </thead>\n",
       "  <tbody>\n",
       "    <tr>\n",
       "      <th>one</th>\n",
       "      <td>2000</td>\n",
       "      <td>Ohio</td>\n",
       "      <td>1.5</td>\n",
       "      <td>0.0</td>\n",
       "    </tr>\n",
       "    <tr>\n",
       "      <th>two</th>\n",
       "      <td>2001</td>\n",
       "      <td>Ohio</td>\n",
       "      <td>1.7</td>\n",
       "      <td>1.0</td>\n",
       "    </tr>\n",
       "    <tr>\n",
       "      <th>three</th>\n",
       "      <td>2002</td>\n",
       "      <td>Ohio</td>\n",
       "      <td>3.6</td>\n",
       "      <td>2.0</td>\n",
       "    </tr>\n",
       "    <tr>\n",
       "      <th>four</th>\n",
       "      <td>2001</td>\n",
       "      <td>Nevada</td>\n",
       "      <td>2.4</td>\n",
       "      <td>3.0</td>\n",
       "    </tr>\n",
       "    <tr>\n",
       "      <th>five</th>\n",
       "      <td>2002</td>\n",
       "      <td>Nevada</td>\n",
       "      <td>2.9</td>\n",
       "      <td>4.0</td>\n",
       "    </tr>\n",
       "    <tr>\n",
       "      <th>six</th>\n",
       "      <td>2003</td>\n",
       "      <td>Nevada</td>\n",
       "      <td>3.2</td>\n",
       "      <td>5.0</td>\n",
       "    </tr>\n",
       "  </tbody>\n",
       "</table>\n",
       "</div>"
      ],
      "text/plain": [
       "       year   state  pop  debt\n",
       "one    2000    Ohio  1.5   0.0\n",
       "two    2001    Ohio  1.7   1.0\n",
       "three  2002    Ohio  3.6   2.0\n",
       "four   2001  Nevada  2.4   3.0\n",
       "five   2002  Nevada  2.9   4.0\n",
       "six    2003  Nevada  3.2   5.0"
      ]
     },
     "execution_count": 64,
     "metadata": {},
     "output_type": "execute_result"
    }
   ],
   "source": [
    "frame2"
   ]
  },
  {
   "cell_type": "code",
   "execution_count": 65,
   "metadata": {
    "ExecuteTime": {
     "end_time": "2020-12-14T05:03:03.340964Z",
     "start_time": "2020-12-14T05:03:03.336002Z"
    }
   },
   "outputs": [],
   "source": [
    "val = pd.Series([-1.2,-1.5,-1.7], index=['two','four','five'])"
   ]
  },
  {
   "cell_type": "code",
   "execution_count": 66,
   "metadata": {
    "ExecuteTime": {
     "end_time": "2020-12-14T05:03:03.345951Z",
     "start_time": "2020-12-14T05:03:03.341961Z"
    }
   },
   "outputs": [],
   "source": [
    "frame2['debt'] = val"
   ]
  },
  {
   "cell_type": "code",
   "execution_count": 67,
   "metadata": {
    "ExecuteTime": {
     "end_time": "2020-12-14T05:03:03.357918Z",
     "start_time": "2020-12-14T05:03:03.348947Z"
    }
   },
   "outputs": [
    {
     "data": {
      "text/html": [
       "<div>\n",
       "<style scoped>\n",
       "    .dataframe tbody tr th:only-of-type {\n",
       "        vertical-align: middle;\n",
       "    }\n",
       "\n",
       "    .dataframe tbody tr th {\n",
       "        vertical-align: top;\n",
       "    }\n",
       "\n",
       "    .dataframe thead th {\n",
       "        text-align: right;\n",
       "    }\n",
       "</style>\n",
       "<table border=\"1\" class=\"dataframe\">\n",
       "  <thead>\n",
       "    <tr style=\"text-align: right;\">\n",
       "      <th></th>\n",
       "      <th>year</th>\n",
       "      <th>state</th>\n",
       "      <th>pop</th>\n",
       "      <th>debt</th>\n",
       "    </tr>\n",
       "  </thead>\n",
       "  <tbody>\n",
       "    <tr>\n",
       "      <th>one</th>\n",
       "      <td>2000</td>\n",
       "      <td>Ohio</td>\n",
       "      <td>1.5</td>\n",
       "      <td>NaN</td>\n",
       "    </tr>\n",
       "    <tr>\n",
       "      <th>two</th>\n",
       "      <td>2001</td>\n",
       "      <td>Ohio</td>\n",
       "      <td>1.7</td>\n",
       "      <td>-1.2</td>\n",
       "    </tr>\n",
       "    <tr>\n",
       "      <th>three</th>\n",
       "      <td>2002</td>\n",
       "      <td>Ohio</td>\n",
       "      <td>3.6</td>\n",
       "      <td>NaN</td>\n",
       "    </tr>\n",
       "    <tr>\n",
       "      <th>four</th>\n",
       "      <td>2001</td>\n",
       "      <td>Nevada</td>\n",
       "      <td>2.4</td>\n",
       "      <td>-1.5</td>\n",
       "    </tr>\n",
       "    <tr>\n",
       "      <th>five</th>\n",
       "      <td>2002</td>\n",
       "      <td>Nevada</td>\n",
       "      <td>2.9</td>\n",
       "      <td>-1.7</td>\n",
       "    </tr>\n",
       "    <tr>\n",
       "      <th>six</th>\n",
       "      <td>2003</td>\n",
       "      <td>Nevada</td>\n",
       "      <td>3.2</td>\n",
       "      <td>NaN</td>\n",
       "    </tr>\n",
       "  </tbody>\n",
       "</table>\n",
       "</div>"
      ],
      "text/plain": [
       "       year   state  pop  debt\n",
       "one    2000    Ohio  1.5   NaN\n",
       "two    2001    Ohio  1.7  -1.2\n",
       "three  2002    Ohio  3.6   NaN\n",
       "four   2001  Nevada  2.4  -1.5\n",
       "five   2002  Nevada  2.9  -1.7\n",
       "six    2003  Nevada  3.2   NaN"
      ]
     },
     "execution_count": 67,
     "metadata": {},
     "output_type": "execute_result"
    }
   ],
   "source": [
    "frame2"
   ]
  },
  {
   "cell_type": "code",
   "execution_count": 68,
   "metadata": {
    "ExecuteTime": {
     "end_time": "2020-12-14T05:03:03.363915Z",
     "start_time": "2020-12-14T05:03:03.359952Z"
    }
   },
   "outputs": [],
   "source": [
    "frame2['eastern'] = frame2.state == 'Ohio'"
   ]
  },
  {
   "cell_type": "code",
   "execution_count": 69,
   "metadata": {
    "ExecuteTime": {
     "end_time": "2020-12-14T05:03:03.374873Z",
     "start_time": "2020-12-14T05:03:03.366927Z"
    }
   },
   "outputs": [
    {
     "data": {
      "text/html": [
       "<div>\n",
       "<style scoped>\n",
       "    .dataframe tbody tr th:only-of-type {\n",
       "        vertical-align: middle;\n",
       "    }\n",
       "\n",
       "    .dataframe tbody tr th {\n",
       "        vertical-align: top;\n",
       "    }\n",
       "\n",
       "    .dataframe thead th {\n",
       "        text-align: right;\n",
       "    }\n",
       "</style>\n",
       "<table border=\"1\" class=\"dataframe\">\n",
       "  <thead>\n",
       "    <tr style=\"text-align: right;\">\n",
       "      <th></th>\n",
       "      <th>year</th>\n",
       "      <th>state</th>\n",
       "      <th>pop</th>\n",
       "      <th>debt</th>\n",
       "      <th>eastern</th>\n",
       "    </tr>\n",
       "  </thead>\n",
       "  <tbody>\n",
       "    <tr>\n",
       "      <th>one</th>\n",
       "      <td>2000</td>\n",
       "      <td>Ohio</td>\n",
       "      <td>1.5</td>\n",
       "      <td>NaN</td>\n",
       "      <td>True</td>\n",
       "    </tr>\n",
       "    <tr>\n",
       "      <th>two</th>\n",
       "      <td>2001</td>\n",
       "      <td>Ohio</td>\n",
       "      <td>1.7</td>\n",
       "      <td>-1.2</td>\n",
       "      <td>True</td>\n",
       "    </tr>\n",
       "    <tr>\n",
       "      <th>three</th>\n",
       "      <td>2002</td>\n",
       "      <td>Ohio</td>\n",
       "      <td>3.6</td>\n",
       "      <td>NaN</td>\n",
       "      <td>True</td>\n",
       "    </tr>\n",
       "    <tr>\n",
       "      <th>four</th>\n",
       "      <td>2001</td>\n",
       "      <td>Nevada</td>\n",
       "      <td>2.4</td>\n",
       "      <td>-1.5</td>\n",
       "      <td>False</td>\n",
       "    </tr>\n",
       "    <tr>\n",
       "      <th>five</th>\n",
       "      <td>2002</td>\n",
       "      <td>Nevada</td>\n",
       "      <td>2.9</td>\n",
       "      <td>-1.7</td>\n",
       "      <td>False</td>\n",
       "    </tr>\n",
       "    <tr>\n",
       "      <th>six</th>\n",
       "      <td>2003</td>\n",
       "      <td>Nevada</td>\n",
       "      <td>3.2</td>\n",
       "      <td>NaN</td>\n",
       "      <td>False</td>\n",
       "    </tr>\n",
       "  </tbody>\n",
       "</table>\n",
       "</div>"
      ],
      "text/plain": [
       "       year   state  pop  debt  eastern\n",
       "one    2000    Ohio  1.5   NaN     True\n",
       "two    2001    Ohio  1.7  -1.2     True\n",
       "three  2002    Ohio  3.6   NaN     True\n",
       "four   2001  Nevada  2.4  -1.5    False\n",
       "five   2002  Nevada  2.9  -1.7    False\n",
       "six    2003  Nevada  3.2   NaN    False"
      ]
     },
     "execution_count": 69,
     "metadata": {},
     "output_type": "execute_result"
    }
   ],
   "source": [
    "frame2"
   ]
  },
  {
   "cell_type": "code",
   "execution_count": 70,
   "metadata": {
    "ExecuteTime": {
     "end_time": "2020-12-14T05:03:03.380867Z",
     "start_time": "2020-12-14T05:03:03.376868Z"
    }
   },
   "outputs": [],
   "source": [
    "del frame2['eastern']"
   ]
  },
  {
   "cell_type": "code",
   "execution_count": 71,
   "metadata": {
    "ExecuteTime": {
     "end_time": "2020-12-14T05:03:03.386841Z",
     "start_time": "2020-12-14T05:03:03.381854Z"
    }
   },
   "outputs": [
    {
     "data": {
      "text/plain": [
       "Index(['year', 'state', 'pop', 'debt'], dtype='object')"
      ]
     },
     "execution_count": 71,
     "metadata": {},
     "output_type": "execute_result"
    }
   ],
   "source": [
    "frame2.columns"
   ]
  },
  {
   "cell_type": "code",
   "execution_count": 72,
   "metadata": {
    "ExecuteTime": {
     "end_time": "2020-12-14T05:03:03.392827Z",
     "start_time": "2020-12-14T05:03:03.388836Z"
    }
   },
   "outputs": [],
   "source": [
    "pop = {'Nevada': {2001:2.4,2002:2.9},\n",
    "      'Ohio':{2000:1.5,2001:1.7,2002:3.6}}"
   ]
  },
  {
   "cell_type": "code",
   "execution_count": 73,
   "metadata": {
    "ExecuteTime": {
     "end_time": "2020-12-14T05:03:03.399807Z",
     "start_time": "2020-12-14T05:03:03.394822Z"
    }
   },
   "outputs": [],
   "source": [
    "frame3 = pd.DataFrame(pop)"
   ]
  },
  {
   "cell_type": "code",
   "execution_count": 74,
   "metadata": {
    "ExecuteTime": {
     "end_time": "2020-12-14T05:03:03.407825Z",
     "start_time": "2020-12-14T05:03:03.401802Z"
    }
   },
   "outputs": [
    {
     "data": {
      "text/html": [
       "<div>\n",
       "<style scoped>\n",
       "    .dataframe tbody tr th:only-of-type {\n",
       "        vertical-align: middle;\n",
       "    }\n",
       "\n",
       "    .dataframe tbody tr th {\n",
       "        vertical-align: top;\n",
       "    }\n",
       "\n",
       "    .dataframe thead th {\n",
       "        text-align: right;\n",
       "    }\n",
       "</style>\n",
       "<table border=\"1\" class=\"dataframe\">\n",
       "  <thead>\n",
       "    <tr style=\"text-align: right;\">\n",
       "      <th></th>\n",
       "      <th>Nevada</th>\n",
       "      <th>Ohio</th>\n",
       "    </tr>\n",
       "  </thead>\n",
       "  <tbody>\n",
       "    <tr>\n",
       "      <th>2000</th>\n",
       "      <td>NaN</td>\n",
       "      <td>1.5</td>\n",
       "    </tr>\n",
       "    <tr>\n",
       "      <th>2001</th>\n",
       "      <td>2.4</td>\n",
       "      <td>1.7</td>\n",
       "    </tr>\n",
       "    <tr>\n",
       "      <th>2002</th>\n",
       "      <td>2.9</td>\n",
       "      <td>3.6</td>\n",
       "    </tr>\n",
       "  </tbody>\n",
       "</table>\n",
       "</div>"
      ],
      "text/plain": [
       "      Nevada  Ohio\n",
       "2000     NaN   1.5\n",
       "2001     2.4   1.7\n",
       "2002     2.9   3.6"
      ]
     },
     "execution_count": 74,
     "metadata": {},
     "output_type": "execute_result"
    }
   ],
   "source": [
    "frame3"
   ]
  },
  {
   "cell_type": "code",
   "execution_count": 75,
   "metadata": {
    "ExecuteTime": {
     "end_time": "2020-12-14T05:03:03.413801Z",
     "start_time": "2020-12-14T05:03:03.408784Z"
    }
   },
   "outputs": [],
   "source": [
    "obj = pd.Series([7, -5, 7, 4, 2, 0, 4])"
   ]
  },
  {
   "cell_type": "code",
   "execution_count": 76,
   "metadata": {
    "ExecuteTime": {
     "end_time": "2020-12-14T05:03:03.420781Z",
     "start_time": "2020-12-14T05:03:03.415764Z"
    }
   },
   "outputs": [
    {
     "data": {
      "text/plain": [
       "0    6.5\n",
       "1    1.0\n",
       "2    6.5\n",
       "3    4.5\n",
       "4    3.0\n",
       "5    2.0\n",
       "6    4.5\n",
       "dtype: float64"
      ]
     },
     "execution_count": 76,
     "metadata": {},
     "output_type": "execute_result"
    }
   ],
   "source": [
    "obj.rank()"
   ]
  },
  {
   "cell_type": "code",
   "execution_count": 77,
   "metadata": {
    "ExecuteTime": {
     "end_time": "2020-12-14T05:03:03.426767Z",
     "start_time": "2020-12-14T05:03:03.422745Z"
    }
   },
   "outputs": [
    {
     "data": {
      "text/plain": [
       "0    6.0\n",
       "1    1.0\n",
       "2    7.0\n",
       "3    4.0\n",
       "4    3.0\n",
       "5    2.0\n",
       "6    5.0\n",
       "dtype: float64"
      ]
     },
     "execution_count": 77,
     "metadata": {},
     "output_type": "execute_result"
    }
   ],
   "source": [
    "obj.rank(method='first')"
   ]
  },
  {
   "cell_type": "code",
   "execution_count": 78,
   "metadata": {
    "ExecuteTime": {
     "end_time": "2020-12-14T05:03:03.433716Z",
     "start_time": "2020-12-14T05:03:03.428731Z"
    }
   },
   "outputs": [
    {
     "data": {
      "text/plain": [
       "0    7.0\n",
       "1    1.0\n",
       "2    7.0\n",
       "3    5.0\n",
       "4    3.0\n",
       "5    2.0\n",
       "6    5.0\n",
       "dtype: float64"
      ]
     },
     "execution_count": 78,
     "metadata": {},
     "output_type": "execute_result"
    }
   ],
   "source": [
    "obj.rank(method='max')"
   ]
  },
  {
   "cell_type": "code",
   "execution_count": 79,
   "metadata": {
    "ExecuteTime": {
     "end_time": "2020-12-14T05:03:03.441694Z",
     "start_time": "2020-12-14T05:03:03.435711Z"
    }
   },
   "outputs": [
    {
     "data": {
      "text/plain": [
       "0    2.0\n",
       "1    7.0\n",
       "2    2.0\n",
       "3    4.0\n",
       "4    5.0\n",
       "5    6.0\n",
       "6    4.0\n",
       "dtype: float64"
      ]
     },
     "execution_count": 79,
     "metadata": {},
     "output_type": "execute_result"
    }
   ],
   "source": [
    "obj.rank(ascending=False,method='max')"
   ]
  },
  {
   "cell_type": "markdown",
   "metadata": {},
   "source": [
    "##### Correlation and Covariance"
   ]
  },
  {
   "cell_type": "code",
   "execution_count": 81,
   "metadata": {
    "ExecuteTime": {
     "end_time": "2020-12-14T05:03:07.376379Z",
     "start_time": "2020-12-14T05:03:07.373386Z"
    }
   },
   "outputs": [],
   "source": [
    "import pandas_datareader.data as web"
   ]
  },
  {
   "cell_type": "code",
   "execution_count": 82,
   "metadata": {
    "ExecuteTime": {
     "end_time": "2020-12-14T05:04:22.487411Z",
     "start_time": "2020-12-14T05:03:08.926570Z"
    }
   },
   "outputs": [],
   "source": [
    "all_data = {ticker: web.get_data_yahoo(ticker)\n",
    "            for ticker in ['AAPL', 'IBM', 'MSFT', 'GOOG']}"
   ]
  },
  {
   "cell_type": "code",
   "execution_count": 83,
   "metadata": {
    "ExecuteTime": {
     "end_time": "2020-12-14T05:04:28.442300Z",
     "start_time": "2020-12-14T05:04:28.390405Z"
    }
   },
   "outputs": [
    {
     "data": {
      "text/plain": [
       "{'AAPL':                   High         Low        Open       Close       Volume  \\\n",
       " Date                                                                      \n",
       " 2015-12-15   28.200001   27.587500   27.985001   27.622499  213292400.0   \n",
       " 2015-12-16   27.997499   27.200001   27.767500   27.834999  224954000.0   \n",
       " 2015-12-17   28.062500   27.245001   28.004999   27.245001  179091200.0   \n",
       " 2015-12-18   27.379999   26.452499   27.227501   26.507500  385813200.0   \n",
       " 2015-12-21   26.842501   26.392500   26.820000   26.832500  190362400.0   \n",
       " 2015-12-22   26.930000   26.612499   26.850000   26.807501  131157600.0   \n",
       " 2015-12-23   27.212500   26.799999   26.817499   27.152500  130629600.0   \n",
       " 2015-12-24   27.250000   26.987499   27.250000   27.007500   54281600.0   \n",
       " 2015-12-28   26.922501   26.545000   26.897499   26.705000  106816800.0   \n",
       " 2015-12-29   27.357500   26.715000   26.740000   27.184999  123724800.0   \n",
       " 2015-12-30   27.174999   26.795000   27.145000   26.830000  100855200.0   \n",
       " 2015-12-31   26.757500   26.205000   26.752501   26.315001  163649200.0   \n",
       " 2016-01-04   26.342501   25.500000   25.652500   26.337500  270597600.0   \n",
       " 2016-01-05   26.462500   25.602501   26.437500   25.677500  223164000.0   \n",
       " 2016-01-06   25.592501   24.967501   25.139999   25.174999  273829600.0   \n",
       " 2016-01-07   25.032499   24.107500   24.670000   24.112499  324377600.0   \n",
       " 2016-01-08   24.777500   24.190001   24.637501   24.240000  283192000.0   \n",
       " 2016-01-11   24.764999   24.334999   24.742500   24.632500  198957600.0   \n",
       " 2016-01-12   25.172501   24.709999   25.137501   24.990000  196616800.0   \n",
       " 2016-01-13   25.297501   24.325001   25.080000   24.347500  249758400.0   \n",
       " 2016-01-14   25.120001   23.934999   24.490000   24.879999  252680400.0   \n",
       " 2016-01-15   24.427500   23.840000   24.049999   24.282499  319335600.0   \n",
       " 2016-01-19   24.662500   23.875000   24.602501   24.165001  212350800.0   \n",
       " 2016-01-20   24.547501   23.355000   23.775000   24.197500  289337600.0   \n",
       " 2016-01-21   24.469999   23.735001   24.264999   24.075001  208646000.0   \n",
       " 2016-01-22   25.365000   24.592501   24.657499   25.355000  263202000.0   \n",
       " 2016-01-25   25.382500   24.802500   25.379999   24.860001  207178000.0   \n",
       " 2016-01-26   25.219999   24.517500   24.982500   24.997499  300308000.0   \n",
       " 2016-01-27   24.157499   23.334999   24.010000   23.355000  533478800.0   \n",
       " 2016-01-28   23.629999   23.097500   23.447500   23.522499  222715200.0   \n",
       " ...                ...         ...         ...         ...          ...   \n",
       " 2020-10-30  111.989998  107.720001  111.059998  108.860001  190272600.0   \n",
       " 2020-11-02  110.680000  107.320000  109.110001  108.769997  122866900.0   \n",
       " 2020-11-03  111.489998  108.730003  109.660004  110.440002  107624400.0   \n",
       " 2020-11-04  115.589996  112.349998  114.139999  114.949997  138235500.0   \n",
       " 2020-11-05  119.620003  116.870003  117.949997  119.029999  126387100.0   \n",
       " 2020-11-06  119.199997  116.129997  118.320000  118.690002  114457900.0   \n",
       " 2020-11-09  121.989998  116.050003  120.500000  116.320000  154515300.0   \n",
       " 2020-11-10  117.589996  114.129997  115.550003  115.970001  138023400.0   \n",
       " 2020-11-11  119.629997  116.440002  117.190002  119.489998  112295000.0   \n",
       " 2020-11-12  120.529999  118.570000  119.620003  119.209999  103162300.0   \n",
       " 2020-11-13  119.669998  117.870003  119.440002  119.260002   81581900.0   \n",
       " 2020-11-16  120.989998  118.150002  118.919998  120.300003   91183000.0   \n",
       " 2020-11-17  120.669998  118.959999  119.550003  119.389999   74271000.0   \n",
       " 2020-11-18  119.820000  118.000000  118.610001  118.029999   76322100.0   \n",
       " 2020-11-19  119.059998  116.809998  117.589996  118.639999   74113000.0   \n",
       " 2020-11-20  118.769997  117.290001  118.639999  117.339996   73391400.0   \n",
       " 2020-11-23  117.620003  113.750000  117.180000  113.849998  127959300.0   \n",
       " 2020-11-24  115.849998  112.589996  113.910004  115.169998  113874200.0   \n",
       " 2020-11-25  116.750000  115.169998  115.550003  116.029999   76499200.0   \n",
       " 2020-11-27  117.489998  116.220001  116.570000  116.589996   46691300.0   \n",
       " 2020-11-30  120.970001  116.809998  116.970001  119.050003  169410200.0   \n",
       " 2020-12-01  123.470001  120.010002  121.010002  122.720001  128166800.0   \n",
       " 2020-12-02  123.370003  120.889999  122.019997  123.080002   89004200.0   \n",
       " 2020-12-03  123.779999  122.209999  123.519997  122.940002   78967600.0   \n",
       " 2020-12-04  122.860001  121.519997  122.599998  122.250000   78260400.0   \n",
       " 2020-12-07  124.570000  122.250000  122.309998  123.750000   86712000.0   \n",
       " 2020-12-08  124.980003  123.089996  124.370003  124.379997   82225500.0   \n",
       " 2020-12-09  125.949997  121.000000  124.529999  121.779999  115089200.0   \n",
       " 2020-12-10  123.870003  120.150002  120.500000  123.239998   81312200.0   \n",
       " 2020-12-11  122.760002  120.550003  122.430000  122.410004   86860000.0   \n",
       " \n",
       "              Adj Close  \n",
       " Date                    \n",
       " 2015-12-15   25.383627  \n",
       " 2015-12-16   25.578905  \n",
       " 2015-12-17   25.036730  \n",
       " 2015-12-18   24.359007  \n",
       " 2015-12-21   24.657661  \n",
       " 2015-12-22   24.634689  \n",
       " 2015-12-23   24.951725  \n",
       " 2015-12-24   24.818476  \n",
       " 2015-12-28   24.540495  \n",
       " 2015-12-29   24.981588  \n",
       " 2015-12-30   24.655361  \n",
       " 2015-12-31   24.182106  \n",
       " 2016-01-04   24.202784  \n",
       " 2016-01-05   23.596279  \n",
       " 2016-01-06   23.134508  \n",
       " 2016-01-07   22.158121  \n",
       " 2016-01-08   22.275295  \n",
       " 2016-01-11   22.635979  \n",
       " 2016-01-12   22.964500  \n",
       " 2016-01-13   22.374075  \n",
       " 2016-01-14   22.863413  \n",
       " 2016-01-15   22.314341  \n",
       " 2016-01-19   22.206371  \n",
       " 2016-01-20   22.236237  \n",
       " 2016-01-21   22.123665  \n",
       " 2016-01-22   23.299917  \n",
       " 2016-01-25   22.845039  \n",
       " 2016-01-26   22.971392  \n",
       " 2016-01-27   21.462019  \n",
       " 2016-01-28   21.615946  \n",
       " ...                ...  \n",
       " 2020-10-30  108.672516  \n",
       " 2020-11-02  108.582664  \n",
       " 2020-11-03  110.249794  \n",
       " 2020-11-04  114.752022  \n",
       " 2020-11-05  118.824997  \n",
       " 2020-11-06  118.690002  \n",
       " 2020-11-09  116.320000  \n",
       " 2020-11-10  115.970001  \n",
       " 2020-11-11  119.489998  \n",
       " 2020-11-12  119.209999  \n",
       " 2020-11-13  119.260002  \n",
       " 2020-11-16  120.300003  \n",
       " 2020-11-17  119.389999  \n",
       " 2020-11-18  118.029999  \n",
       " 2020-11-19  118.639999  \n",
       " 2020-11-20  117.339996  \n",
       " 2020-11-23  113.849998  \n",
       " 2020-11-24  115.169998  \n",
       " 2020-11-25  116.029999  \n",
       " 2020-11-27  116.589996  \n",
       " 2020-11-30  119.050003  \n",
       " 2020-12-01  122.720001  \n",
       " 2020-12-02  123.080002  \n",
       " 2020-12-03  122.940002  \n",
       " 2020-12-04  122.250000  \n",
       " 2020-12-07  123.750000  \n",
       " 2020-12-08  124.379997  \n",
       " 2020-12-09  121.779999  \n",
       " 2020-12-10  123.239998  \n",
       " 2020-12-11  122.410004  \n",
       " \n",
       " [1258 rows x 6 columns],\n",
       " 'IBM':                   High         Low        Open       Close      Volume  \\\n",
       " Date                                                                     \n",
       " 2015-12-15  138.970001  137.279999  137.399994  137.789993   4238500.0   \n",
       " 2015-12-16  139.649994  137.789993  139.119995  139.289993   4345500.0   \n",
       " 2015-12-17  139.500000  136.309998  139.350006  136.750000   4089500.0   \n",
       " 2015-12-18  136.960007  134.270004  136.410004  134.899994  10026100.0   \n",
       " 2015-12-21  135.830002  134.020004  135.830002  135.500000   5617500.0   \n",
       " 2015-12-22  138.190002  135.649994  135.880005  137.929993   4263800.0   \n",
       " 2015-12-23  139.309998  138.110001  138.300003  138.539993   5164900.0   \n",
       " 2015-12-24  138.880005  138.110001  138.429993  138.250000   1495200.0   \n",
       " 2015-12-28  138.039993  136.539993  137.740005  137.610001   3143400.0   \n",
       " 2015-12-29  140.059998  138.199997  138.250000  139.779999   3943700.0   \n",
       " 2015-12-30  140.440002  139.220001  139.580002  139.339996   2989400.0   \n",
       " 2015-12-31  139.100006  137.570007  139.070007  137.619995   3462100.0   \n",
       " 2016-01-04  135.970001  134.240005  135.600006  135.949997   5229400.0   \n",
       " 2016-01-05  136.889999  134.850006  136.759995  135.850006   3924800.0   \n",
       " 2016-01-06  135.580002  133.619995  134.380005  135.169998   4310900.0   \n",
       " 2016-01-07  135.020004  132.429993  133.699997  132.860001   7025800.0   \n",
       " 2016-01-08  133.820007  131.320007  133.179993  131.630005   4762700.0   \n",
       " 2016-01-11  133.820007  131.759995  131.809998  133.229996   4974400.0   \n",
       " 2016-01-12  133.779999  131.130005  133.649994  132.899994   5078700.0   \n",
       " 2016-01-13  134.279999  131.100006  133.500000  131.169998   4700100.0   \n",
       " 2016-01-14  133.789993  131.220001  131.929993  132.910004   5709600.0   \n",
       " 2016-01-15  130.880005  128.869995  130.009995  130.029999   9008500.0   \n",
       " 2016-01-19  132.100006  128.059998  130.110001  128.110001   9979600.0   \n",
       " 2016-01-20  123.989998  118.000000  118.459999  121.860001  16157800.0   \n",
       " 2016-01-21  125.099998  120.580002  121.300003  122.910004   8851600.0   \n",
       " 2016-01-22  124.739998  121.769997  124.669998  122.500000   9238400.0   \n",
       " 2016-01-25  124.230003  121.639999  122.099998  122.080002   5446000.0   \n",
       " 2016-01-26  123.610001  122.239998  122.250000  122.589996   4617800.0   \n",
       " 2016-01-27  123.370003  120.650002  122.730003  120.959999   5026400.0   \n",
       " 2016-01-28  122.830002  121.010002  121.260002  122.220001   3942500.0   \n",
       " ...                ...         ...         ...         ...         ...   \n",
       " 2020-10-30  111.800003  107.750000  107.900002  111.660004   7921500.0   \n",
       " 2020-11-02  113.830002  112.250000  112.650002  112.910004   5311500.0   \n",
       " 2020-11-03  115.650002  113.629997  114.000000  114.160004   4204300.0   \n",
       " 2020-11-04  113.910004  111.160004  112.330002  111.900002   5800100.0   \n",
       " 2020-11-05  115.290001  113.010002  113.300003  114.769997   4902200.0   \n",
       " 2020-11-06  115.099998  113.389999  115.080002  114.040001   5249200.0   \n",
       " 2020-11-09  119.739998  115.269997  117.879997  115.529999   8992200.0   \n",
       " 2020-11-10  118.169998  116.250000  116.690002  117.910004   5622800.0   \n",
       " 2020-11-11  118.349998  116.220001  118.120003  117.199997   4289600.0   \n",
       " 2020-11-12  116.370003  113.480003  115.629997  114.500000   6498200.0   \n",
       " 2020-11-13  117.370003  115.010002  115.190002  116.849998   4682600.0   \n",
       " 2020-11-16  118.550003  117.120003  118.300003  118.360001   5293400.0   \n",
       " 2020-11-17  118.540001  117.070000  117.599998  117.699997   4134500.0   \n",
       " 2020-11-18  118.879997  116.750000  117.720001  116.769997   4606800.0   \n",
       " 2020-11-19  117.449997  115.889999  116.540001  117.180000   3439600.0   \n",
       " 2020-11-20  118.040001  116.690002  117.599998  116.940002   5024300.0   \n",
       " 2020-11-23  120.519997  117.269997  117.430000  120.089996   5650400.0   \n",
       " 2020-11-24  124.730003  120.809998  120.860001  124.419998   7752500.0   \n",
       " 2020-11-25  124.330002  122.110001  122.930000  124.199997   4135900.0   \n",
       " 2020-11-27  125.309998  123.910004  124.199997  124.349998   2091200.0   \n",
       " 2020-11-30  125.000000  123.089996  124.099998  123.519997   5988000.0   \n",
       " 2020-12-01  125.830002  123.080002  123.900002  123.160004   5312100.0   \n",
       " 2020-12-02  124.639999  122.410004  122.849998  124.620003   3690700.0   \n",
       " 2020-12-03  124.860001  123.290001  124.160004  123.610001   4548200.0   \n",
       " 2020-12-04  127.379997  123.639999  123.970001  127.199997   5522800.0   \n",
       " 2020-12-07  126.970001  124.570000  126.489998  124.699997   8318500.0   \n",
       " 2020-12-08  126.330002  124.639999  125.320000  125.709999   5395000.0   \n",
       " 2020-12-09  127.690002  125.699997  125.800003  126.790001   6513500.0   \n",
       " 2020-12-10  126.930000  124.940002  126.349998  124.959999   4803200.0   \n",
       " 2020-12-11  125.510002  123.610001  124.080002  124.269997   4480900.0   \n",
       " \n",
       "              Adj Close  \n",
       " Date                    \n",
       " 2015-12-15  109.785408  \n",
       " 2015-12-16  110.980545  \n",
       " 2015-12-17  108.956772  \n",
       " 2015-12-18  107.482788  \n",
       " 2015-12-21  107.960846  \n",
       " 2015-12-22  109.896957  \n",
       " 2015-12-23  110.382957  \n",
       " 2015-12-24  110.151917  \n",
       " 2015-12-28  109.641991  \n",
       " 2015-12-29  111.370964  \n",
       " 2015-12-30  111.020401  \n",
       " 2015-12-31  109.649956  \n",
       " 2016-01-04  108.319374  \n",
       " 2016-01-05  108.239723  \n",
       " 2016-01-06  107.697914  \n",
       " 2016-01-07  105.857414  \n",
       " 2016-01-08  104.877380  \n",
       " 2016-01-11  106.152191  \n",
       " 2016-01-12  105.889252  \n",
       " 2016-01-13  104.510864  \n",
       " 2016-01-14  105.897240  \n",
       " 2016-01-15  103.602547  \n",
       " 2016-01-19  102.072784  \n",
       " 2016-01-20   97.093033  \n",
       " 2016-01-21   97.929649  \n",
       " 2016-01-22   97.602982  \n",
       " 2016-01-25   97.268311  \n",
       " 2016-01-26   97.674690  \n",
       " 2016-01-27   96.375954  \n",
       " 2016-01-28   97.379875  \n",
       " ...                ...  \n",
       " 2020-10-30  110.064018  \n",
       " 2020-11-02  111.296150  \n",
       " 2020-11-03  112.528282  \n",
       " 2020-11-04  110.300583  \n",
       " 2020-11-05  113.129562  \n",
       " 2020-11-06  112.409996  \n",
       " 2020-11-09  115.529999  \n",
       " 2020-11-10  117.910004  \n",
       " 2020-11-11  117.199997  \n",
       " 2020-11-12  114.500000  \n",
       " 2020-11-13  116.849998  \n",
       " 2020-11-16  118.360001  \n",
       " 2020-11-17  117.699997  \n",
       " 2020-11-18  116.769997  \n",
       " 2020-11-19  117.180000  \n",
       " 2020-11-20  116.940002  \n",
       " 2020-11-23  120.089996  \n",
       " 2020-11-24  124.419998  \n",
       " 2020-11-25  124.199997  \n",
       " 2020-11-27  124.349998  \n",
       " 2020-11-30  123.519997  \n",
       " 2020-12-01  123.160004  \n",
       " 2020-12-02  124.620003  \n",
       " 2020-12-03  123.610001  \n",
       " 2020-12-04  127.199997  \n",
       " 2020-12-07  124.699997  \n",
       " 2020-12-08  125.709999  \n",
       " 2020-12-09  126.790001  \n",
       " 2020-12-10  124.959999  \n",
       " 2020-12-11  124.269997  \n",
       " \n",
       " [1258 rows x 6 columns],\n",
       " 'MSFT':                   High         Low        Open       Close      Volume  \\\n",
       " Date                                                                     \n",
       " 2015-12-15   55.900002   55.090000   55.660000   55.200001  39843000.0   \n",
       " 2015-12-16   56.250000   54.759998   55.540001   56.130001  37503300.0   \n",
       " 2015-12-17   56.790001   55.529999   56.360001   55.700001  41280900.0   \n",
       " 2015-12-18   56.000000   54.029999   55.770000   54.130001  84684200.0   \n",
       " 2015-12-21   55.349998   54.230000   54.880001   54.830002  37246300.0   \n",
       " 2015-12-22   55.480000   54.500000   54.990002   55.349998  28322200.0   \n",
       " 2015-12-23   55.880001   55.439999   55.700001   55.820000  27279800.0   \n",
       " 2015-12-24   55.959999   55.430000   55.860001   55.669998   9558500.0   \n",
       " 2015-12-28   55.950001   54.980000   55.349998   55.950001  22458300.0   \n",
       " 2015-12-29   56.849998   56.060001   56.290001   56.549999  27731400.0   \n",
       " 2015-12-30   56.779999   56.290001   56.470001   56.310001  21704500.0   \n",
       " 2015-12-31   56.189999   55.419998   56.040001   55.480000  27334100.0   \n",
       " 2016-01-04   54.799999   53.389999   54.320000   54.799999  53778000.0   \n",
       " 2016-01-05   55.389999   54.540001   54.930000   55.049999  34079700.0   \n",
       " 2016-01-06   54.400002   53.639999   54.320000   54.049999  39518900.0   \n",
       " 2016-01-07   53.490002   52.070000   52.700001   52.169998  56564900.0   \n",
       " 2016-01-08   53.279999   52.150002   52.369999   52.330002  48754000.0   \n",
       " 2016-01-11   52.849998   51.459999   52.509998   52.299999  36943800.0   \n",
       " 2016-01-12   53.099998   52.060001   52.759998   52.779999  36095500.0   \n",
       " 2016-01-13   54.070000   51.299999   53.799999   51.639999  66883600.0   \n",
       " 2016-01-14   53.419998   51.570000   52.000000   53.110001  52381900.0   \n",
       " 2016-01-15   51.970001   50.340000   51.310001   50.990002  71820700.0   \n",
       " 2016-01-19   51.680000   50.060001   51.480000   50.560001  43564500.0   \n",
       " 2016-01-20   51.380001   49.099998   49.980000   50.790001  63273000.0   \n",
       " 2016-01-21   51.580002   50.299999   51.000000   50.480000  40191200.0   \n",
       " 2016-01-22   52.330002   51.259998   51.410000   52.290001  37555800.0   \n",
       " 2016-01-25   52.650002   51.650002   51.939999   51.790001  34707700.0   \n",
       " 2016-01-26   52.439999   51.549999   51.790001   52.169998  28900800.0   \n",
       " 2016-01-27   52.200001   51.020000   52.009998   51.220001  36775200.0   \n",
       " 2016-01-28   52.209999   51.250000   51.860001   52.060001  62513800.0   \n",
       " ...                ...         ...         ...         ...         ...   \n",
       " 2020-10-30  204.289993  199.619995  203.500000  202.470001  36953700.0   \n",
       " 2020-11-02  205.279999  200.119995  204.289993  202.330002  30842200.0   \n",
       " 2020-11-03  208.119995  203.119995  203.889999  206.429993  27512000.0   \n",
       " 2020-11-04  218.320007  212.419998  214.020004  216.389999  42311800.0   \n",
       " 2020-11-05  224.119995  221.149994  222.039993  223.289993  36080100.0   \n",
       " 2020-11-06  224.360001  218.029999  222.259995  223.720001  25231900.0   \n",
       " 2020-11-09  228.119995  217.880005  224.440002  218.389999  44395000.0   \n",
       " 2020-11-10  216.500000  209.720001  214.500000  211.009995  44045100.0   \n",
       " 2020-11-11  218.039993  212.199997  212.389999  216.550003  29440800.0   \n",
       " 2020-11-12  219.110001  214.460007  217.210007  215.440002  21593900.0   \n",
       " 2020-11-13  217.419998  214.160004  216.360001  216.509995  18621100.0   \n",
       " 2020-11-16  217.740005  214.520004  214.869995  217.229996  24953300.0   \n",
       " 2020-11-17  217.679993  214.080002  216.100006  214.460007  24154100.0   \n",
       " 2020-11-18  215.169998  210.929993  213.649994  211.080002  28372800.0   \n",
       " 2020-11-19  213.029999  209.929993  211.380005  212.419998  24792700.0   \n",
       " 2020-11-20  213.289993  210.000000  212.199997  210.389999  22829100.0   \n",
       " 2020-11-23  212.289993  208.160004  210.949997  210.110001  25683500.0   \n",
       " 2020-11-24  214.250000  208.860001  209.589996  213.860001  33979700.0   \n",
       " 2020-11-25  215.289993  212.460007  215.110001  213.869995  21012900.0   \n",
       " 2020-11-27  216.270004  214.039993  214.850006  215.229996  14512200.0   \n",
       " 2020-11-30  214.759995  210.839996  214.100006  214.070007  33064800.0   \n",
       " 2020-12-01  217.320007  213.350006  214.509995  216.210007  30931300.0   \n",
       " 2020-12-02  215.470001  212.800003  214.880005  215.369995  23724500.0   \n",
       " 2020-12-03  216.380005  213.649994  214.610001  214.240005  25120900.0   \n",
       " 2020-12-04  215.380005  213.179993  214.220001  214.360001  24666000.0   \n",
       " 2020-12-07  215.539993  212.990005  214.369995  214.289993  24620000.0   \n",
       " 2020-12-08  216.949997  212.889999  213.970001  216.009995  23284100.0   \n",
       " 2020-12-09  215.229996  211.210007  215.160004  211.800003  32440600.0   \n",
       " 2020-12-10  213.080002  210.360001  211.770004  210.520004  26733300.0   \n",
       " 2020-12-11  213.320007  209.110001  210.050003  213.259995  30972600.0   \n",
       " \n",
       "              Adj Close  \n",
       " Date                    \n",
       " 2015-12-15   50.371754  \n",
       " 2015-12-16   51.220406  \n",
       " 2015-12-17   50.828026  \n",
       " 2015-12-18   49.395348  \n",
       " 2015-12-21   50.034130  \n",
       " 2015-12-22   50.508629  \n",
       " 2015-12-23   50.937519  \n",
       " 2015-12-24   50.800640  \n",
       " 2015-12-28   51.056156  \n",
       " 2015-12-29   51.603676  \n",
       " 2015-12-30   51.384666  \n",
       " 2015-12-31   50.627274  \n",
       " 2016-01-04   50.006744  \n",
       " 2016-01-05   50.234879  \n",
       " 2016-01-06   49.322346  \n",
       " 2016-01-07   47.606789  \n",
       " 2016-01-08   47.752792  \n",
       " 2016-01-11   47.725410  \n",
       " 2016-01-12   48.163425  \n",
       " 2016-01-13   47.123150  \n",
       " 2016-01-14   48.464577  \n",
       " 2016-01-15   46.530006  \n",
       " 2016-01-19   46.137611  \n",
       " 2016-01-20   46.347496  \n",
       " 2016-01-21   46.064606  \n",
       " 2016-01-22   47.716290  \n",
       " 2016-01-25   47.260017  \n",
       " 2016-01-26   47.606789  \n",
       " 2016-01-27   46.739880  \n",
       " 2016-01-28   47.506405  \n",
       " ...                ...  \n",
       " 2020-10-30  201.941315  \n",
       " 2020-11-02  201.801666  \n",
       " 2020-11-03  205.890961  \n",
       " 2020-11-04  215.824951  \n",
       " 2020-11-05  222.706940  \n",
       " 2020-11-06  223.135818  \n",
       " 2020-11-09  217.819733  \n",
       " 2020-11-10  210.459000  \n",
       " 2020-11-11  215.984543  \n",
       " 2020-11-12  214.877441  \n",
       " 2020-11-13  215.944641  \n",
       " 2020-11-16  216.662766  \n",
       " 2020-11-17  213.900009  \n",
       " 2020-11-18  211.080002  \n",
       " 2020-11-19  212.419998  \n",
       " 2020-11-20  210.389999  \n",
       " 2020-11-23  210.110001  \n",
       " 2020-11-24  213.860001  \n",
       " 2020-11-25  213.869995  \n",
       " 2020-11-27  215.229996  \n",
       " 2020-11-30  214.070007  \n",
       " 2020-12-01  216.210007  \n",
       " 2020-12-02  215.369995  \n",
       " 2020-12-03  214.240005  \n",
       " 2020-12-04  214.360001  \n",
       " 2020-12-07  214.289993  \n",
       " 2020-12-08  216.009995  \n",
       " 2020-12-09  211.800003  \n",
       " 2020-12-10  210.520004  \n",
       " 2020-12-11  213.259995  \n",
       " \n",
       " [1258 rows x 6 columns],\n",
       " 'GOOG':                    High          Low         Open        Close   Volume  \\\n",
       " Date                                                                      \n",
       " 2015-12-15   758.080017   743.010010   753.000000   743.400024  2666200   \n",
       " 2015-12-16   760.590027   739.434998   750.000000   758.090027  1993300   \n",
       " 2015-12-17   762.679993   749.000000   762.419983   749.429993  1553400   \n",
       " 2015-12-18   754.130005   738.150024   746.510010   739.309998  3148700   \n",
       " 2015-12-21   750.000000   740.000000   746.130005   747.770020  1525700   \n",
       " 2015-12-22   754.849976   745.530029   751.650024   750.000000  1365400   \n",
       " 2015-12-23   754.210022   744.000000   753.469971   750.309998  1565900   \n",
       " 2015-12-24   751.349976   746.619995   749.549988   748.400024   527200   \n",
       " 2015-12-28   762.989990   749.520020   752.919983   762.510010  1515300   \n",
       " 2015-12-29   779.979980   766.429993   766.690002   776.599976  1765000   \n",
       " 2015-12-30   777.599976   766.900024   776.599976   771.000000  1293300   \n",
       " 2015-12-31   769.500000   758.340027   769.500000   758.880005  1500900   \n",
       " 2016-01-04   744.059998   731.257996   743.000000   741.840027  3272800   \n",
       " 2016-01-05   752.000000   738.640015   746.450012   742.580017  1950700   \n",
       " 2016-01-06   747.179993   728.919983   730.000000   743.619995  1947000   \n",
       " 2016-01-07   738.500000   719.059998   730.309998   726.390015  2963700   \n",
       " 2016-01-08   733.229980   713.000000   731.450012   714.469971  2450900   \n",
       " 2016-01-11   718.854980   703.539978   716.609985   716.030029  2090600   \n",
       " 2016-01-12   728.750000   717.317017   721.679993   726.070007  2024500   \n",
       " 2016-01-13   734.739990   698.609985   730.849976   700.559998  2501700   \n",
       " 2016-01-14   721.924988   689.099976   705.380005   714.719971  2225800   \n",
       " 2016-01-15   706.739990   685.369995   692.289978   694.450012  3608100   \n",
       " 2016-01-19   709.979980   693.409973   703.299988   701.789978  2268100   \n",
       " 2016-01-20   706.849976   673.260010   688.609985   698.450012  3445000   \n",
       " 2016-01-21   719.190002   694.460022   702.179993   706.590027  2412200   \n",
       " 2016-01-22   728.130005   720.120972   723.599976   725.250000  2011800   \n",
       " 2016-01-25   729.679993   710.010010   723.580017   711.669983  1711700   \n",
       " 2016-01-26   718.280029   706.479980   713.849976   713.039978  1331700   \n",
       " 2016-01-27   718.234985   694.390015   713.669983   699.989990  2194200   \n",
       " 2016-01-28   733.690002   712.349976   722.219971   730.960022  2676400   \n",
       " ...                 ...          ...          ...          ...      ...   \n",
       " 2020-10-30  1687.000000  1604.459961  1672.109985  1621.010010  4329100   \n",
       " 2020-11-02  1660.770020  1616.030029  1628.160034  1626.030029  2535400   \n",
       " 2020-11-03  1661.699951  1616.619995  1631.780029  1650.209961  1661700   \n",
       " 2020-11-04  1771.364990  1706.030029  1710.280029  1749.130005  3570900   \n",
       " 2020-11-05  1793.640015  1750.510010  1781.000000  1763.369995  2065800   \n",
       " 2020-11-06  1772.430054  1740.349976  1753.949951  1761.750000  1660900   \n",
       " 2020-11-09  1818.060059  1760.020020  1790.900024  1763.000000  2268300   \n",
       " 2020-11-10  1763.000000  1717.300049  1731.089966  1740.390015  2636100   \n",
       " 2020-11-11  1764.219971  1747.364990  1750.000000  1752.709961  1264000   \n",
       " 2020-11-12  1768.270020  1745.599976  1747.630005  1749.839966  1247500   \n",
       " 2020-11-13  1781.040039  1744.550049  1757.630005  1777.020020  1499900   \n",
       " 2020-11-16  1799.069946  1767.689941  1771.699951  1781.380005  1246800   \n",
       " 2020-11-17  1785.000000  1767.000000  1776.939941  1770.150024  1147100   \n",
       " 2020-11-18  1773.469971  1746.140015  1765.229980  1746.780029  1173500   \n",
       " 2020-11-19  1769.589966  1737.005005  1738.380005  1763.920044  1249900   \n",
       " 2020-11-20  1774.000000  1741.859985  1765.209961  1742.189941  2313500   \n",
       " 2020-11-23  1753.900024  1717.719971  1749.599976  1734.859985  2161600   \n",
       " 2020-11-24  1771.599976  1727.689941  1730.500000  1768.880005  1578000   \n",
       " 2020-11-25  1778.540039  1756.540039  1772.890015  1771.430054  1045800   \n",
       " 2020-11-27  1804.000000  1772.439941  1773.089966  1793.189941   884900   \n",
       " 2020-11-30  1788.064941  1755.000000  1781.183960  1760.739990  1823800   \n",
       " 2020-12-01  1824.829956  1769.369995  1774.369995  1798.099976  1739000   \n",
       " 2020-12-02  1835.650024  1789.473022  1798.099976  1827.949951  1222000   \n",
       " 2020-12-03  1847.199951  1822.650024  1824.010010  1826.770020  1227300   \n",
       " 2020-12-04  1833.160034  1816.989990  1824.520020  1827.989990  1378200   \n",
       " 2020-12-07  1832.369995  1805.780029  1819.000000  1819.479980  1320900   \n",
       " 2020-12-08  1821.900024  1796.204956  1810.099976  1818.550049  1096300   \n",
       " 2020-12-09  1834.270020  1767.810059  1812.010010  1784.130005  1507600   \n",
       " 2020-12-10  1781.310059  1740.319946  1769.800049  1775.329956  1362800   \n",
       " 2020-12-11  1784.449951  1760.000000  1763.060059  1781.770020  1220100   \n",
       " \n",
       "               Adj Close  \n",
       " Date                     \n",
       " 2015-12-15   743.400024  \n",
       " 2015-12-16   758.090027  \n",
       " 2015-12-17   749.429993  \n",
       " 2015-12-18   739.309998  \n",
       " 2015-12-21   747.770020  \n",
       " 2015-12-22   750.000000  \n",
       " 2015-12-23   750.309998  \n",
       " 2015-12-24   748.400024  \n",
       " 2015-12-28   762.510010  \n",
       " 2015-12-29   776.599976  \n",
       " 2015-12-30   771.000000  \n",
       " 2015-12-31   758.880005  \n",
       " 2016-01-04   741.840027  \n",
       " 2016-01-05   742.580017  \n",
       " 2016-01-06   743.619995  \n",
       " 2016-01-07   726.390015  \n",
       " 2016-01-08   714.469971  \n",
       " 2016-01-11   716.030029  \n",
       " 2016-01-12   726.070007  \n",
       " 2016-01-13   700.559998  \n",
       " 2016-01-14   714.719971  \n",
       " 2016-01-15   694.450012  \n",
       " 2016-01-19   701.789978  \n",
       " 2016-01-20   698.450012  \n",
       " 2016-01-21   706.590027  \n",
       " 2016-01-22   725.250000  \n",
       " 2016-01-25   711.669983  \n",
       " 2016-01-26   713.039978  \n",
       " 2016-01-27   699.989990  \n",
       " 2016-01-28   730.960022  \n",
       " ...                 ...  \n",
       " 2020-10-30  1621.010010  \n",
       " 2020-11-02  1626.030029  \n",
       " 2020-11-03  1650.209961  \n",
       " 2020-11-04  1749.130005  \n",
       " 2020-11-05  1763.369995  \n",
       " 2020-11-06  1761.750000  \n",
       " 2020-11-09  1763.000000  \n",
       " 2020-11-10  1740.390015  \n",
       " 2020-11-11  1752.709961  \n",
       " 2020-11-12  1749.839966  \n",
       " 2020-11-13  1777.020020  \n",
       " 2020-11-16  1781.380005  \n",
       " 2020-11-17  1770.150024  \n",
       " 2020-11-18  1746.780029  \n",
       " 2020-11-19  1763.920044  \n",
       " 2020-11-20  1742.189941  \n",
       " 2020-11-23  1734.859985  \n",
       " 2020-11-24  1768.880005  \n",
       " 2020-11-25  1771.430054  \n",
       " 2020-11-27  1793.189941  \n",
       " 2020-11-30  1760.739990  \n",
       " 2020-12-01  1798.099976  \n",
       " 2020-12-02  1827.949951  \n",
       " 2020-12-03  1826.770020  \n",
       " 2020-12-04  1827.989990  \n",
       " 2020-12-07  1819.479980  \n",
       " 2020-12-08  1818.550049  \n",
       " 2020-12-09  1784.130005  \n",
       " 2020-12-10  1775.329956  \n",
       " 2020-12-11  1781.770020  \n",
       " \n",
       " [1258 rows x 6 columns]}"
      ]
     },
     "execution_count": 83,
     "metadata": {},
     "output_type": "execute_result"
    }
   ],
   "source": [
    "all_data"
   ]
  },
  {
   "cell_type": "code",
   "execution_count": null,
   "metadata": {
    "ExecuteTime": {
     "end_time": "2020-12-14T03:58:36.305717Z",
     "start_time": "2020-12-14T03:58:02.408Z"
    }
   },
   "outputs": [],
   "source": [
    "price = pd.DataFrame({ticker: data['Adj Close']\n",
    "                      for ticker, data in all_data.items()})"
   ]
  },
  {
   "cell_type": "code",
   "execution_count": null,
   "metadata": {},
   "outputs": [],
   "source": []
  }
 ],
 "metadata": {
  "kernelspec": {
   "display_name": "Python 3",
   "language": "python",
   "name": "python3"
  },
  "toc": {
   "base_numbering": 1,
   "nav_menu": {},
   "number_sections": true,
   "sideBar": true,
   "skip_h1_title": false,
   "title_cell": "Table of Contents",
   "title_sidebar": "Contents",
   "toc_cell": false,
   "toc_position": {},
   "toc_section_display": true,
   "toc_window_display": false
  },
  "varInspector": {
   "cols": {
    "lenName": 16,
    "lenType": 16,
    "lenVar": 40
   },
   "kernels_config": {
    "python": {
     "delete_cmd_postfix": "",
     "delete_cmd_prefix": "del ",
     "library": "var_list.py",
     "varRefreshCmd": "print(var_dic_list())"
    },
    "r": {
     "delete_cmd_postfix": ") ",
     "delete_cmd_prefix": "rm(",
     "library": "var_list.r",
     "varRefreshCmd": "cat(var_dic_list()) "
    }
   },
   "types_to_exclude": [
    "module",
    "function",
    "builtin_function_or_method",
    "instance",
    "_Feature"
   ],
   "window_display": false
  }
 },
 "nbformat": 4,
 "nbformat_minor": 2
}
